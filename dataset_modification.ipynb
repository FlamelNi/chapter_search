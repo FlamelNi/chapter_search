{
 "cells": [
  {
   "cell_type": "code",
   "execution_count": 12,
   "metadata": {},
   "outputs": [],
   "source": [
    "from pyt import *\n",
    "import pyt\n",
    "import pandas as pd"
   ]
  },
  {
   "cell_type": "code",
   "execution_count": 13,
   "metadata": {},
   "outputs": [
    {
     "name": "stdout",
     "output_type": "stream",
     "text": [
      "Help on module pyt:\n",
      "\n",
      "NAME\n",
      "    pyt\n",
      "\n",
      "CLASSES\n",
      "    builtins.object\n",
      "        wordCount\n",
      "    \n",
      "    class wordCount(builtins.object)\n",
      "     |  Data descriptors defined here:\n",
      "     |  \n",
      "     |  __dict__\n",
      "     |      dictionary for instance variables (if defined)\n",
      "     |  \n",
      "     |  __weakref__\n",
      "     |      list of weak references to the object (if defined)\n",
      "     |  \n",
      "     |  ----------------------------------------------------------------------\n",
      "     |  Data and other attributes defined here:\n",
      "     |  \n",
      "     |  count = 0\n",
      "     |  \n",
      "     |  word = ''\n",
      "\n",
      "FUNCTIONS\n",
      "    breakToWords(name, LIMIT=1000000000)\n",
      "    \n",
      "    chapterName(x)\n",
      "    \n",
      "    compare(a, b)\n",
      "    \n",
      "    finalData()\n",
      "    \n",
      "    getAllCount(name='1', number=10000000)\n",
      "    \n",
      "    sort(unsorted)\n",
      "\n",
      "FILE\n",
      "    /Users/jspark971/Documents/coding_practice/python/chapter_check/chapter_search/pyt.py\n",
      "\n",
      "\n"
     ]
    }
   ],
   "source": [
    "help(pyt)"
   ]
  },
  {
   "cell_type": "code",
   "execution_count": 14,
   "metadata": {},
   "outputs": [],
   "source": [
    "final_data = finalData()"
   ]
  },
  {
   "cell_type": "code",
   "execution_count": 15,
   "metadata": {},
   "outputs": [],
   "source": [
    "labels = ['word_name','count','chapter number']"
   ]
  },
  {
   "cell_type": "code",
   "execution_count": 16,
   "metadata": {},
   "outputs": [],
   "source": [
    "df = pd.DataFrame.from_records(final_data, columns = labels)"
   ]
  },
  {
   "cell_type": "code",
   "execution_count": null,
   "metadata": {},
   "outputs": [],
   "source": []
  }
 ],
 "metadata": {
  "kernelspec": {
   "display_name": "Python3",
   "language": "python",
   "name": "python3"
  },
  "language_info": {
   "codemirror_mode": {
    "name": "ipython",
    "version": 3
   },
   "file_extension": ".py",
   "mimetype": "text/x-python",
   "name": "python",
   "nbconvert_exporter": "python",
   "pygments_lexer": "ipython3",
   "version": "3.6.2"
  }
 },
 "nbformat": 4,
 "nbformat_minor": 2
}
