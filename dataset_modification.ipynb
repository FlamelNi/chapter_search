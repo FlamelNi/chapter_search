{
 "cells": [
  {
   "cell_type": "code",
   "execution_count": 21,
   "metadata": {},
   "outputs": [],
   "source": [
    "from pyt import *\n",
    "import pyt\n",
    "import pandas as pd"
   ]
  },
  {
   "cell_type": "code",
   "execution_count": 22,
   "metadata": {},
   "outputs": [
    {
     "name": "stdout",
     "output_type": "stream",
     "text": [
      "Help on module pyt:\n",
      "\n",
      "NAME\n",
      "    pyt\n",
      "\n",
      "DESCRIPTION\n",
      "    #Gets name of textfile that contains physics info, separated by sections\n",
      "    #parameter 'x' has to be string-ed number such as \"1\", not 1\n",
      "\n",
      "CLASSES\n",
      "    builtins.object\n",
      "        wordCount\n",
      "    \n",
      "    class wordCount(builtins.object)\n",
      "     |  # class declaration of wordCount\n",
      "     |  \n",
      "     |  Data descriptors defined here:\n",
      "     |  \n",
      "     |  __dict__\n",
      "     |      dictionary for instance variables (if defined)\n",
      "     |  \n",
      "     |  __weakref__\n",
      "     |      list of weak references to the object (if defined)\n",
      "     |  \n",
      "     |  ----------------------------------------------------------------------\n",
      "     |  Data and other attributes defined here:\n",
      "     |  \n",
      "     |  count = 0\n",
      "     |  \n",
      "     |  word = ''\n",
      "\n",
      "FUNCTIONS\n",
      "    breakToWords(content=[])\n",
      "        # Parameter \"content\" is list that contains multiple sentences.\n",
      "        # This function will break content into multiple parts and build one list of words\n",
      "    \n",
      "    chapterName(x)\n",
      "        #Gets name of textfile that contains physics info, separated by sections\n",
      "        #parameter 'x' has to be string-ed number such as \"1\", not 1\n",
      "    \n",
      "    compare(a, b)\n",
      "        # this just compares two wordCount object\n",
      "    \n",
      "    finalData()\n",
      "        # this function will use getAllCount but re-format it to better-list\n",
      "        # (this does not involve with class/objects)\n",
      "    \n",
      "    getAllCount(name='1')\n",
      "        # gets sorted list of wordCount objects from textfiles\n",
      "    \n",
      "    getFromFile(name)\n",
      "        # reads from textfile and break it by handing it in to break to words\n",
      "    \n",
      "    lowerStringList(stringList)\n",
      "        #gets list of string as parameter and returns the same but all strings in lowercase\n",
      "    \n",
      "    sort(unsorted)\n",
      "        # this sorts a list of wordCount objects and returns sorted list (by count)\n",
      "\n",
      "DATA\n",
      "    lista = ['hello', 'annian', 'notme']\n",
      "    word = 'notme'\n",
      "\n",
      "FILE\n",
      "    /Users/jspark971/Documents/coding_practice/python/chapter_check/chapter_search/pyt.py\n",
      "\n",
      "\n"
     ]
    }
   ],
   "source": [
    "help(pyt)"
   ]
  },
  {
   "cell_type": "code",
   "execution_count": 23,
   "metadata": {},
   "outputs": [
    {
     "name": "stdout",
     "output_type": "stream",
     "text": [
      "Help on function chapterName in module pyt:\n",
      "\n",
      "chapterName(x)\n",
      "    #Gets name of textfile that contains physics info, separated by sections\n",
      "    #parameter 'x' has to be string-ed number such as \"1\", not 1\n",
      "\n"
     ]
    }
   ],
   "source": [
    "help(chapterName)"
   ]
  },
  {
   "cell_type": "code",
   "execution_count": 8,
   "metadata": {},
   "outputs": [],
   "source": [
    "final_data = finalData()"
   ]
  },
  {
   "cell_type": "code",
   "execution_count": 33,
   "metadata": {},
   "outputs": [],
   "source": [
    "labels = ['word_name','count','chapter_number']"
   ]
  },
  {
   "cell_type": "code",
   "execution_count": 34,
   "metadata": {},
   "outputs": [],
   "source": [
    "df = pd.DataFrame.from_records(final_data, columns = labels)"
   ]
  },
  {
   "cell_type": "code",
   "execution_count": 35,
   "metadata": {},
   "outputs": [
    {
     "data": {
      "text/html": [
       "<div>\n",
       "<style>\n",
       "    .dataframe thead tr:only-child th {\n",
       "        text-align: right;\n",
       "    }\n",
       "\n",
       "    .dataframe thead th {\n",
       "        text-align: left;\n",
       "    }\n",
       "\n",
       "    .dataframe tbody tr th {\n",
       "        vertical-align: top;\n",
       "    }\n",
       "</style>\n",
       "<table border=\"1\" class=\"dataframe\">\n",
       "  <thead>\n",
       "    <tr style=\"text-align: right;\">\n",
       "      <th></th>\n",
       "      <th>word_name</th>\n",
       "      <th>count</th>\n",
       "      <th>chapter_number</th>\n",
       "    </tr>\n",
       "  </thead>\n",
       "  <tbody>\n",
       "    <tr>\n",
       "      <th>0</th>\n",
       "      <td>more</td>\n",
       "      <td>1</td>\n",
       "      <td>1</td>\n",
       "    </tr>\n",
       "    <tr>\n",
       "      <th>1</th>\n",
       "      <td>kilogram</td>\n",
       "      <td>1</td>\n",
       "      <td>1</td>\n",
       "    </tr>\n",
       "    <tr>\n",
       "      <th>2</th>\n",
       "      <td>chopping</td>\n",
       "      <td>1</td>\n",
       "      <td>1</td>\n",
       "    </tr>\n",
       "    <tr>\n",
       "      <th>3</th>\n",
       "      <td>dock</td>\n",
       "      <td>1</td>\n",
       "      <td>1</td>\n",
       "    </tr>\n",
       "    <tr>\n",
       "      <th>4</th>\n",
       "      <td>reading</td>\n",
       "      <td>1</td>\n",
       "      <td>1</td>\n",
       "    </tr>\n",
       "  </tbody>\n",
       "</table>\n",
       "</div>"
      ],
      "text/plain": [
       "  word_name  count  chapter_number\n",
       "0      more      1               1\n",
       "1  kilogram      1               1\n",
       "2  chopping      1               1\n",
       "3      dock      1               1\n",
       "4   reading      1               1"
      ]
     },
     "execution_count": 35,
     "metadata": {},
     "output_type": "execute_result"
    }
   ],
   "source": [
    "df.head()"
   ]
  },
  {
   "cell_type": "code",
   "execution_count": 36,
   "metadata": {},
   "outputs": [
    {
     "data": {
      "text/plain": [
       "(1815, 3)"
      ]
     },
     "execution_count": 36,
     "metadata": {},
     "output_type": "execute_result"
    }
   ],
   "source": [
    "df.shape"
   ]
  },
  {
   "cell_type": "code",
   "execution_count": 52,
   "metadata": {},
   "outputs": [],
   "source": [
    "groupby_chapter_number = df['count'].groupby(df['word_name'])"
   ]
  }
 ],
 "metadata": {
  "kernelspec": {
   "display_name": "Python3",
   "language": "python",
   "name": "python3"
  },
  "language_info": {
   "codemirror_mode": {
    "name": "ipython",
    "version": 3
   },
   "file_extension": ".py",
   "mimetype": "text/x-python",
   "name": "python",
   "nbconvert_exporter": "python",
   "pygments_lexer": "ipython3",
   "version": "3.6.2"
  }
 },
 "nbformat": 4,
 "nbformat_minor": 2
}
